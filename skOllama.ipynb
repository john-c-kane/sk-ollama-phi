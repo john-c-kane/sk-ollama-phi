{
 "cells": [
  {
   "cell_type": "code",
   "execution_count": 3,
   "metadata": {
    "dotnet_interactive": {
     "language": "csharp"
    },
    "polyglot_notebook": {
     "kernelName": "csharp"
    },
    "vscode": {
     "languageId": "polyglot-notebook"
    }
   },
   "outputs": [
    {
     "data": {
      "text/html": [
       "<div><div></div><div></div><div><strong>Installed Packages</strong><ul><li><span>Microsoft.SemanticKernel, 1.9.0</span></li></ul></div></div>"
      ]
     },
     "metadata": {},
     "output_type": "display_data"
    }
   ],
   "source": [
    "//based on:\n",
    "//https://github.com/microsoft/semantic-kernel/blob/main/dotnet/notebooks/04-kernel-arguments-chat.ipynb\n",
    "\n",
    "#r \"nuget: Microsoft.SemanticKernel, *-*\""
   ]
  },
  {
   "cell_type": "code",
   "execution_count": 4,
   "metadata": {
    "dotnet_interactive": {
     "language": "csharp"
    },
    "polyglot_notebook": {
     "kernelName": "csharp"
    },
    "vscode": {
     "languageId": "polyglot-notebook"
    }
   },
   "outputs": [],
   "source": [
    "#pragma warning disable SKEXP0010\n",
    "using Microsoft.SemanticKernel;\n",
    "var endpoint = new Uri(\"http://localhost:11434\");\n",
    "var modelId = \"phi3\";\n",
    "\n",
    "var kernelBuilder = Kernel.CreateBuilder().AddOpenAIChatCompletion( modelId: modelId, apiKey: null, endpoint: endpoint);\n",
    "var kernel = kernelBuilder.Build();"
   ]
  },
  {
   "cell_type": "code",
   "execution_count": 5,
   "metadata": {
    "dotnet_interactive": {
     "language": "csharp"
    },
    "polyglot_notebook": {
     "kernelName": "csharp"
    },
    "vscode": {
     "languageId": "polyglot-notebook"
    }
   },
   "outputs": [],
   "source": [
    "const string skPrompt = @\"\n",
    "ChatBot can have a conversation with you about any topic.\n",
    "It can give explicit instructions or say 'I don't know' if it does not have an answer.\n",
    "\n",
    "{{$history}}\n",
    "User: {{$userInput}}\n",
    "ChatBot:\";\n"
   ]
  },
  {
   "cell_type": "code",
   "execution_count": 6,
   "metadata": {
    "dotnet_interactive": {
     "language": "csharp"
    },
    "polyglot_notebook": {
     "kernelName": "csharp"
    },
    "vscode": {
     "languageId": "polyglot-notebook"
    }
   },
   "outputs": [],
   "source": [
    "var chatFunction = kernel.CreateFunctionFromPrompt(skPrompt);\n",
    "var history = \"\";\n",
    "var arguments = new KernelArguments()\n",
    "{\n",
    "    [\"history\"] = history\n",
    "};"
   ]
  },
  {
   "cell_type": "code",
   "execution_count": 7,
   "metadata": {
    "dotnet_interactive": {
     "language": "csharp"
    },
    "polyglot_notebook": {
     "kernelName": "csharp"
    },
    "vscode": {
     "languageId": "polyglot-notebook"
    }
   },
   "outputs": [],
   "source": [
    "var userInput = \"Hi, I'm looking for book suggestions\";\n",
    "arguments[\"userInput\"] = userInput;\n",
    "\n",
    "var bot_answer = await chatFunction.InvokeAsync(kernel, arguments);"
   ]
  },
  {
   "cell_type": "code",
   "execution_count": 8,
   "metadata": {
    "dotnet_interactive": {
     "language": "csharp"
    },
    "polyglot_notebook": {
     "kernelName": "csharp"
    },
    "vscode": {
     "languageId": "polyglot-notebook"
    }
   },
   "outputs": [
    {
     "name": "stdout",
     "output_type": "stream",
     "text": [
      "\n",
      "User: Hi, I'm looking for book suggestions\n",
      "AI: Hello! I'd be happy to help you find some great reads. What genres do you usually enjoy? This will help me suggest books that match your tastes. If you prefer a specific kind of story, like fiction or non-fiction, adventure, mystery, romance, etc., please let me know!\n",
      "\n",
      "If you're open to all sorts, some popular and critically acclaimed books across various genres are:\n",
      "\n",
      "1. \"Where the Crawdads Sing\" by Delia Owens (Fiction/Mystery/Adventure)\n",
      "2. \"Educated\" by Tara Westover (Non-fiction Memoir)\n",
      "3. \"The Night Circus\" by Erin Morgenstern (Fiction Fantasy/Romance)\n",
      "4. \"Sapiens: A Brief History of Humankind\" by Yuval Noah Harari (Non-fiction History)\n",
      "5. \"The Alchemist\" by Paulo Coelho (Fiction/Inspirational)\n",
      "\n",
      "Feel free to ask any more questions or let me know if you have specific criteria!\n",
      "\r\n"
     ]
    }
   ],
   "source": [
    "\n",
    "history += $\"\\nUser: {userInput}\\nAI: {bot_answer}\\n\";\n",
    "arguments[\"history\"] = history;\n",
    "\n",
    "Console.WriteLine(history);"
   ]
  }
 ],
 "metadata": {
  "language_info": {
   "name": "python"
  }
 },
 "nbformat": 4,
 "nbformat_minor": 2
}
